{
 "cells": [
  {
   "cell_type": "markdown",
   "metadata": {
    "application/vnd.databricks.v1+cell": {
     "cellMetadata": {},
     "inputWidgets": {},
     "nuid": "cb2ac81a-ca8b-44e1-832b-ebe47c02db3f",
     "showTitle": false,
     "tableResultSettingsMap": {},
     "title": ""
    }
   },
   "source": [
    "### **LEITURA E FORMATAÇÃO DO ARQUIVO**"
   ]
  },
  {
   "cell_type": "code",
   "execution_count": 1,
   "metadata": {
    "application/vnd.databricks.v1+cell": {
     "cellMetadata": {
      "byteLimit": 2048000,
      "rowLimit": 10000
     },
     "inputWidgets": {},
     "nuid": "e60056ca-8792-4a16-ab0c-27474008673a",
     "showTitle": false,
     "tableResultSettingsMap": {
      "0": {
       "dataGridStateBlob": "{\"version\":1,\"tableState\":{\"columnPinning\":{\"left\":[\"#row_number#\"],\"right\":[]},\"columnSizing\":{\"CTRL_ID\":190},\"columnVisibility\":{}},\"settings\":{\"columns\":{}},\"syncTimestamp\":1757947753646}",
       "filterBlob": null,
       "queryPlanFiltersBlob": null,
       "tableResultIndex": 0
      }
     },
     "title": ""
    }
   },
   "outputs": [],
   "source": [
    "import pandas as pd\n",
    "from pyspark.sql.functions import *\n",
    "import numpy as np\n",
    "from pyspark.sql.functions import *\n",
    "from pyspark.sql import SparkSession\n",
    "spark = SparkSession.builder.appName(\"CSV_Reader\").getOrCreate()\n",
    "import matplotlib.pyplot as plt\n",
    "import seaborn as sns\n",
    "from pyspark.sql.functions import udf \n",
    "from pyspark.sql.types import StringType \n"
   ]
  },
  {
   "cell_type": "code",
   "execution_count": 2,
   "metadata": {},
   "outputs": [
    {
     "name": "stdout",
     "output_type": "stream",
     "text": [
      "SparkSession iniciada e driver JDBC 'postgresql-42.7.8.jar' carregado com sucesso.\n",
      "Drivers carregados: None\n",
      "Propriedades de conexão definidas.\n"
     ]
    }
   ],
   "source": [
    "# Conexão JDBC ---\n",
    "\n",
    "\n",
    "POSTGRES_JDBC_DRIVER_PATH = \"C:\\\\spark\\\\spark-3.4.1\\\\jars\\\\postgresql-42.7.8.jar\"\n",
    "\n",
    "\n",
    "spark = SparkSession.builder \\\n",
    "    .appName(\"PostgreSQLConnection_Tech3\") \\\n",
    "    .config(\"spark.jars\", POSTGRES_JDBC_DRIVER_PATH) \\\n",
    "    .getOrCreate()\n",
    "\n",
    "print(\"SparkSession iniciada e driver JDBC 'postgresql-42.7.8.jar' carregado com sucesso.\")\n",
    "\n",
    "\n",
    "print(f\"Drivers carregados: {spark.sparkContext.getConf().get('spark.jars')}\")\n",
    "\n",
    "jdbc_url = \"jdbc:postgresql://localhost:5432/Tech3\" \n",
    "jdbc_user = \"postgres\" \n",
    "jdbc_password = \"alef\"\n",
    "MODE = \"overwrite\" \n",
    "\n",
    "connection_properties = {\n",
    "    \"user\": jdbc_user,\n",
    "    \"password\": jdbc_password,\n",
    "\n",
    "    \"driver\": \"org.postgresql.Driver\" \n",
    "}\n",
    "\n",
    "print(\"Propriedades de conexão definidas.\")"
   ]
  },
  {
   "cell_type": "code",
   "execution_count": 3,
   "metadata": {
    "application/vnd.databricks.v1+cell": {
     "cellMetadata": {
      "byteLimit": 2048000,
      "rowLimit": 10000
     },
     "inputWidgets": {},
     "nuid": "dac469a4-d344-4d54-9ada-7d73bfe93160",
     "showTitle": false,
     "tableResultSettingsMap": {},
     "title": ""
    }
   },
   "outputs": [],
   "source": [
    "csv_path_julho = \"PNAD_COVID_072020\\PNAD_COVID_072020.csv\"\n",
    "\n",
    "df_julho = spark.read.csv(csv_path_julho, sep = \",\", header=True, inferSchema=True)"
   ]
  },
  {
   "cell_type": "code",
   "execution_count": 4,
   "metadata": {
    "application/vnd.databricks.v1+cell": {
     "cellMetadata": {
      "byteLimit": 2048000,
      "rowLimit": 10000
     },
     "inputWidgets": {},
     "nuid": "4e6d14f6-f088-4ee8-aff0-deee10a7d997",
     "showTitle": false,
     "tableResultSettingsMap": {},
     "title": ""
    }
   },
   "outputs": [],
   "source": [
    "csv_path_setembro = \"PNAD_COVID_092020\\PNAD_COVID_092020.csv\"\n",
    "\n",
    "df_setembro = spark.read.csv(csv_path_setembro, sep = \",\", header=True, inferSchema=True)"
   ]
  },
  {
   "cell_type": "code",
   "execution_count": 5,
   "metadata": {
    "application/vnd.databricks.v1+cell": {
     "cellMetadata": {
      "byteLimit": 2048000,
      "rowLimit": 10000
     },
     "inputWidgets": {},
     "nuid": "5afb2516-e817-49cd-8c65-6d6ba6e4d959",
     "showTitle": false,
     "tableResultSettingsMap": {},
     "title": ""
    }
   },
   "outputs": [],
   "source": [
    "csv_path_novembro = \"PNAD_COVID_112020\\PNAD_COVID_112020.csv\"\n",
    "\n",
    "df_novembro = spark.read.csv(csv_path_novembro, sep = \",\", header=True, inferSchema=True)"
   ]
  },
  {
   "cell_type": "code",
   "execution_count": 6,
   "metadata": {
    "application/vnd.databricks.v1+cell": {
     "cellMetadata": {
      "byteLimit": 2048000,
      "rowLimit": 10000
     },
     "inputWidgets": {},
     "nuid": "6c89fe46-7da8-4053-933a-72cbf610e5fa",
     "showTitle": false,
     "tableResultSettingsMap": {},
     "title": ""
    }
   },
   "outputs": [],
   "source": [
    "# Seleciona apenas as colunas desejadas\n",
    "\n",
    "colunas_desejadas = [\n",
    "\"A001\",\"UPA\",\"V1008\",\"V1013\",\"A002\",\"A003\",\"A006\",\"B0015\",\"B0011\",\"B00111\",\"B0012\",\"B0014\",\"B0018\",\"B0019\",\"B009F\",\"B009D\",\"B009B\",\"B011\",\"C001\",\"C007C\",\"C007E\",\"C012\",\"V1022\",\"UF\"]\n",
    "\n",
    "df_novembro = df_novembro.select(colunas_desejadas)\n",
    "df_setembro = df_setembro.select(colunas_desejadas)\n",
    "df_julho = df_julho.select(colunas_desejadas)"
   ]
  },
  {
   "cell_type": "code",
   "execution_count": 7,
   "metadata": {
    "application/vnd.databricks.v1+cell": {
     "cellMetadata": {
      "byteLimit": 2048000,
      "rowLimit": 10000
     },
     "inputWidgets": {},
     "nuid": "7e178e5f-2b5e-4669-9c18-118f10b69d9a",
     "showTitle": false,
     "tableResultSettingsMap": {},
     "title": ""
    }
   },
   "outputs": [],
   "source": [
    "#Junta os três meses em um unico DataFrame\n",
    "df_completo = df_novembro.union(df_setembro).union(df_julho)\n",
    "\n"
   ]
  },
  {
   "cell_type": "code",
   "execution_count": 8,
   "metadata": {
    "application/vnd.databricks.v1+cell": {
     "cellMetadata": {
      "byteLimit": 2048000,
      "rowLimit": 10000
     },
     "inputWidgets": {},
     "nuid": "a5b40379-4738-435a-9b71-527154b03191",
     "showTitle": false,
     "tableResultSettingsMap": {},
     "title": ""
    }
   },
   "outputs": [
    {
     "name": "stdout",
     "output_type": "stream",
     "text": [
      "+----------------+---------+------------------+--------+------------------+-----------------+-----------+---------------+----------+-----------------+----------+-----------------+-----------+-----------+-----------------+-----------------+----------+--------------+-----------------+------------------+---------------------+---------------+------------------+-------+-------------------+\n",
      "|CTRL_NUM_MORADOR| CTRL_UPA|CTRL_NUM_DOMICILIO|CTRL_MES|PESS_IDADE_MORADOR|PESS_SEXO_MORADOR|PESS_ESTUDA|SINT_DOR_CABECA|SINT_FEBRE|SINT_PERDA_OLFATO|SINT_TOSSE|SINT_DIF_RESPIRAR|SINT_CORIZA|SINT_FADIGA|TESTE_SANGUE_VEIA|TESTE_SANGUE_DEDO|TESTE_SWAB|DISTANC_SOCIAL|TRAB_SP_TRABALHOU|TRAB_TIPO_TRABALHO|TRAB_QUANT_EMPREGADOS|TRAB_PRESENCIAL|PESS_SIT_DOMICILIO|PESS_UF|            CTRL_ID|\n",
      "+----------------+---------+------------------+--------+------------------+-----------------+-----------+---------------+----------+-----------------+----------+-----------------+-----------+-----------+-----------------+-----------------+----------+--------------+-----------------+------------------+---------------------+---------------+------------------+-------+-------------------+\n",
      "|               1|110015970|                 1|      11|                36|                1|       NULL|              2|         2|                2|         2|                2|          2|          2|             NULL|             NULL|      NULL|             2|                1|                35|                 NULL|              1|                 1|     11|0000001100159700101|\n",
      "|               2|110015970|                 1|      11|                30|                2|       NULL|              2|         2|                2|         2|                2|          2|          2|             NULL|             NULL|      NULL|             2|                1|                27|                 NULL|              1|                 1|     11|0000001100159700102|\n",
      "|               3|110015970|                 1|      11|                13|                1|          1|              2|         2|                2|         2|                2|          2|          2|             NULL|             NULL|      NULL|             4|             NULL|              NULL|                 NULL|           NULL|                 1|     11|0000001100159700103|\n",
      "|               4|110015970|                 1|      11|                11|                1|          1|              2|         2|                2|         2|                2|          2|          2|             NULL|             NULL|      NULL|             4|             NULL|              NULL|                 NULL|           NULL|                 1|     11|0000001100159700104|\n",
      "|               1|110015970|                 2|      11|                57|                2|       NULL|              2|         2|                2|         2|                2|          2|          2|             NULL|             NULL|      NULL|             2|                2|              NULL|                 NULL|           NULL|                 1|     11|0000001100159700201|\n",
      "|               1|110015970|                 3|      11|                58|                2|       NULL|              2|         2|                2|         2|                2|          2|          2|             NULL|             NULL|      NULL|             3|                1|                21|                 NULL|              1|                 1|     11|0000001100159700301|\n",
      "|               1|110015970|                 4|      11|                47|                1|       NULL|              2|         2|                2|         2|                2|          2|          2|             NULL|             NULL|      NULL|             2|                1|                18|                 NULL|              1|                 1|     11|0000001100159700401|\n",
      "|               4|110015970|                 4|      11|                18|                2|          2|              2|         2|                2|         2|                2|          2|          2|             NULL|             NULL|      NULL|             3|                2|              NULL|                 NULL|           NULL|                 1|     11|0000001100159700404|\n",
      "|               7|110015970|                 4|      11|                11|                1|          1|              2|         2|                2|         2|                2|          2|          2|             NULL|             NULL|      NULL|             4|             NULL|              NULL|                 NULL|           NULL|                 1|     11|0000001100159700407|\n",
      "|               9|110015970|                 4|      11|                 9|                2|          1|              2|         2|                2|         2|                2|          2|          2|             NULL|             NULL|      NULL|             4|             NULL|              NULL|                 NULL|           NULL|                 1|     11|0000001100159700409|\n",
      "|               8|110015970|                 4|      11|                10|                1|          1|              2|         2|                2|         2|                2|          2|          2|             NULL|             NULL|      NULL|             4|             NULL|              NULL|                 NULL|           NULL|                 1|     11|0000001100159700408|\n",
      "|               3|110015970|                 4|      11|                26|                1|          2|              2|         2|                2|         2|                2|          2|          2|             NULL|             NULL|      NULL|             2|                1|                12|                 NULL|              1|                 1|     11|0000001100159700403|\n",
      "|               6|110015970|                 4|      11|                14|                1|          1|              2|         2|                2|         2|                2|          2|          2|             NULL|             NULL|      NULL|             3|                2|              NULL|                 NULL|           NULL|                 1|     11|0000001100159700406|\n",
      "|               5|110015970|                 4|      11|                15|                2|          1|              2|         2|                2|         2|                2|          2|          2|             NULL|             NULL|      NULL|             3|                2|              NULL|                 NULL|           NULL|                 1|     11|0000001100159700405|\n",
      "|               2|110015970|                 4|      11|                33|                2|       NULL|              2|         2|                2|         2|                2|          2|          2|             NULL|             NULL|      NULL|             3|                2|              NULL|                 NULL|           NULL|                 1|     11|0000001100159700402|\n",
      "|               1|110015970|                 5|      11|                62|                1|       NULL|              2|         2|                2|         2|                2|          2|          2|             NULL|             NULL|      NULL|             2|                1|                19|                 NULL|              1|                 1|     11|0000001100159700501|\n",
      "|               2|110015970|                 5|      11|                62|                2|       NULL|              2|         2|                2|         2|                2|          2|          2|             NULL|             NULL|      NULL|             2|                2|              NULL|                 NULL|           NULL|                 1|     11|0000001100159700502|\n",
      "|               1|110015970|                 6|      11|                57|                2|       NULL|              2|         2|                2|         2|                2|          2|          2|             NULL|             NULL|      NULL|             2|                2|              NULL|                 NULL|           NULL|                 1|     11|0000001100159700601|\n",
      "|               2|110015970|                 6|      11|                53|                1|       NULL|              2|         2|                2|         2|                2|          2|          2|             NULL|             NULL|      NULL|             2|                1|                18|                 NULL|              1|                 1|     11|0000001100159700602|\n",
      "|               3|110015970|                 6|      11|                17|                2|          1|              2|         2|                2|         2|                2|          2|          2|             NULL|             NULL|      NULL|             2|                2|              NULL|                 NULL|           NULL|                 1|     11|0000001100159700603|\n",
      "+----------------+---------+------------------+--------+------------------+-----------------+-----------+---------------+----------+-----------------+----------+-----------------+-----------+-----------+-----------------+-----------------+----------+--------------+-----------------+------------------+---------------------+---------------+------------------+-------+-------------------+\n",
      "only showing top 20 rows\n",
      "\n"
     ]
    }
   ],
   "source": [
    "\n",
    "# Renomeia as colunas (exemplo: ajuste conforme necessário)\n",
    "df_renamed = df_completo.withColumnRenamed(\"UF\", \"PESS_UF\"\n",
    ").withColumnRenamed(\"V1008\", \"CTRL_NUM_DOMICILIO\"\n",
    ").withColumnRenamed(\"V1013\", \"CTRL_MES\"\n",
    ").withColumnRenamed(\"V1022\", \"PESS_SIT_DOMICILIO\"\n",
    ").withColumnRenamed(\"UPA\", \"CTRL_UPA\"\n",
    ").withColumnRenamed(\"A001\", \"CTRL_NUM_MORADOR\"\n",
    ").withColumnRenamed(\"A002\", \"PESS_IDADE_MORADOR\"\n",
    ").withColumnRenamed(\"A003\", \"PESS_SEXO_MORADOR\"\n",
    ").withColumnRenamed(\"A006\", \"PESS_ESTUDA\"\n",
    ").withColumnRenamed(\"B0015\", \"SINT_DOR_CABECA\"   \n",
    ").withColumnRenamed(\"B0011\", \"SINT_FEBRE\"\n",
    ").withColumnRenamed(\"B0012\", \"SINT_TOSSE\"\n",
    ").withColumnRenamed(\"B0014\", \"SINT_DIF_RESPIRAR\"\n",
    ").withColumnRenamed(\"B0018\", \"SINT_CORIZA\"\n",
    ").withColumnRenamed(\"B0019\", \"SINT_FADIGA\"\n",
    ").withColumnRenamed(\"B00111\", \"SINT_PERDA_OLFATO\"\n",
    ").withColumnRenamed(\"B009F\", \"TESTE_SANGUE_VEIA\"\n",
    ").withColumnRenamed(\"B009D\", \"TESTE_SANGUE_DEDO\"\n",
    ").withColumnRenamed(\"B009B\", \"TESTE_SWAB\"\t\t\t   \n",
    ").withColumnRenamed(\"B011\", \"DISTANC_SOCIAL\"\n",
    ").withColumnRenamed(\"C001\", \"TRAB_SP_TRABALHOU\"\n",
    ").withColumnRenamed(\"C007C\", \"TRAB_TIPO_TRABALHO\"\n",
    ").withColumnRenamed(\"C007E\", \"TRAB_QUANT_EMPREGADOS\"\n",
    ").withColumnRenamed(\"C012\", \"TRAB_PRESENCIAL\"\n",
    "                    )\n",
    "\n",
    "df_renamed = df_renamed.withColumn(\n",
    "    \"CTRL_ID\",\n",
    "    concat(\n",
    "        lpad(df_renamed[\"CTRL_UPA\"], 15, \"0\"),\n",
    "        lpad(df_renamed[\"CTRL_NUM_DOMICILIO\"], 2, \"0\"),\n",
    "        lpad(df_renamed[\"CTRL_NUM_MORADOR\"], 2, \"0\")\n",
    "    )\n",
    ")\n",
    "\n",
    "\n",
    "# Exibe o DataFrame renomeado\n",
    "df_renamed.show()"
   ]
  },
  {
   "cell_type": "markdown",
   "metadata": {
    "application/vnd.databricks.v1+cell": {
     "cellMetadata": {},
     "inputWidgets": {},
     "nuid": "5d2e546d-0e08-4c09-b858-ee4bc46ca77f",
     "showTitle": false,
     "tableResultSettingsMap": {},
     "title": ""
    }
   },
   "source": [
    "### **DICIONÁRIOS DE DOMINIO DOS DADOS**"
   ]
  },
  {
   "cell_type": "code",
   "execution_count": 9,
   "metadata": {
    "application/vnd.databricks.v1+cell": {
     "cellMetadata": {
      "byteLimit": 2048000,
      "rowLimit": 10000
     },
     "collapsed": true,
     "inputWidgets": {},
     "nuid": "a5ce9e16-72f6-4c98-b928-9066ca94562b",
     "showTitle": false,
     "tableResultSettingsMap": {},
     "title": ""
    }
   },
   "outputs": [
    {
     "name": "stdout",
     "output_type": "stream",
     "text": [
      "+-------+--------------------+--------+-------------------+\n",
      "|COD_VAR|           DESCR_VAR|COD_TIPO|         DESCR_TIPO|\n",
      "+-------+--------------------+--------+-------------------+\n",
      "|     UF|Unidade da Federação|      11|           Rondônia|\n",
      "|     UF|Unidade da Federação|      12|               Acre|\n",
      "|     UF|Unidade da Federação|      13|           Amazonas|\n",
      "|     UF|Unidade da Federação|      14|            Roraima|\n",
      "|     UF|Unidade da Federação|      15|               Pará|\n",
      "|     UF|Unidade da Federação|      16|              Amapá|\n",
      "|     UF|Unidade da Federação|      17|          Tocantins|\n",
      "|     UF|Unidade da Federação|      21|           Maranhão|\n",
      "|     UF|Unidade da Federação|      22|              Piauí|\n",
      "|     UF|Unidade da Federação|      23|              Ceará|\n",
      "|     UF|Unidade da Federação|      24|Rio Grande do Norte|\n",
      "|     UF|Unidade da Federação|      25|            Paraíba|\n",
      "|     UF|Unidade da Federação|      26|         Pernambuco|\n",
      "|     UF|Unidade da Federação|      27|            Alagoas|\n",
      "|     UF|Unidade da Federação|      28|            Sergipe|\n",
      "|     UF|Unidade da Federação|      29|              Bahia|\n",
      "|     UF|Unidade da Federação|      31|       Minas Gerais|\n",
      "|     UF|Unidade da Federação|      32|     Espírito Santo|\n",
      "|     UF|Unidade da Federação|      33|     Rio de Janeiro|\n",
      "|     UF|Unidade da Federação|      35|          São Paulo|\n",
      "+-------+--------------------+--------+-------------------+\n",
      "only showing top 20 rows\n",
      "\n"
     ]
    }
   ],
   "source": [
    "csv_path_dict = \"Dicionario_PNAD_COVID_112020_20220621.csv\"\n",
    "\n",
    "# pula as 4 primeiras linhas e usa a 5ª como cabeçalho\n",
    "df_dict = pd.read_csv(\n",
    "    csv_path_dict, \n",
    "    sep=\";\", \n",
    "    encoding=\"latin1\", \n",
    "    skiprows=4,   # pula as 4 primeiras\n",
    "    header=0      # a próxima linha (linha 5) vira o cabeçalho\n",
    ")\n",
    "\n",
    "# Indices das linhas de comentários do dicionário \n",
    "indices_to_remove = [91, 169, 343, 569, 598, 614]\n",
    "\n",
    "df_dict_filtered = df_dict.drop(indices_to_remove)\n",
    "\n",
    "# Usar ffill para preencher os valores vazios com o valor anterior\n",
    "df_dict_filtered['Ano'] = df_dict_filtered['Ano'].ffill()\n",
    "df_dict_filtered['Ano de referência'] = df_dict_filtered['Ano de referência'].ffill()\n",
    "\n",
    "# Criando DF spark\n",
    "df_dict_filtered = spark.createDataFrame(df_dict_filtered)\n",
    "\n",
    "\n",
    "#Ronomeando colunaaa\n",
    "df_dict_rename = df_dict_filtered.withColumnRenamed(\"Ano\", \"COD_VAR\"\n",
    ").withColumnRenamed(\"Ano de referência\", \"DESCR_VAR\"\n",
    ").withColumnRenamed(\"Unnamed: 4\", \"COD_TIPO\"\n",
    ").withColumnRenamed(\"Unnamed: 5\", \"DESCR_TIPO\")\n",
    "\n",
    "df_dict_rename = df_dict_rename.select(\n",
    "    \"COD_VAR\", \"DESCR_VAR\",\"COD_TIPO\",\"DESCR_TIPO\"\n",
    ")\n",
    "\n",
    "#FILTRANDO APENAS COLUNAS DESEJADAS\n",
    "df_filtro = df_dict_rename.filter(col(\"COD_VAR\").isin(colunas_desejadas))\n",
    "\n",
    "df_filtro.show()\n"
   ]
  },
  {
   "cell_type": "code",
   "execution_count": 10,
   "metadata": {
    "application/vnd.databricks.v1+cell": {
     "cellMetadata": {
      "byteLimit": 2048000,
      "rowLimit": 10000
     },
     "collapsed": true,
     "inputWidgets": {},
     "nuid": "54f5a039-1010-440e-a764-c5e42951ad35",
     "showTitle": false,
     "tableResultSettingsMap": {},
     "title": ""
    }
   },
   "outputs": [],
   "source": [
    "dic_pess_uf_df = (\n",
    "    df_filtro\n",
    "    .filter(col(\"COD_VAR\") == \"UF\")\n",
    "    .select(\"COD_TIPO\", \"DESCR_TIPO\")\n",
    "    .withColumnRenamed(\"COD_TIPO\", \"PESS_UF\")\n",
    "    .withColumnRenamed(\"DESCR_TIPO\", \"PESS_UF_DESC\"))\n",
    "\n",
    "\n",
    "\n",
    "dic_pess_sit_domicilio_df = (\n",
    "    df_filtro\n",
    "    .filter(col(\"COD_VAR\") == \"V1022\")\n",
    "    .select(\"COD_TIPO\", \"DESCR_TIPO\")\n",
    "    .withColumnRenamed(\"COD_TIPO\", \"PESS_SIT_DOMICILIO\")\n",
    "    .withColumnRenamed(\"DESCR_TIPO\", \"PESS_SIT_DOMICILIO_DESC\"))\n",
    "\n",
    "\n",
    "dic_pess_sexo_morador = (\n",
    "    df_filtro\n",
    "    .filter(col(\"COD_VAR\") == \"A003\")\n",
    "    .select(\"COD_TIPO\", \"DESCR_TIPO\")\n",
    "    .withColumnRenamed(\"COD_TIPO\", \"PESS_SEXO_MORADOR\")\n",
    "    .withColumnRenamed(\"DESCR_TIPO\", \"PESS_SEXO_MORADOR_DESC\"))\n",
    "\n",
    "\n",
    "\n",
    "dic_sintomas_df = (\n",
    "    df_filtro\n",
    "    .filter(col(\"COD_VAR\")=='B0012')\n",
    "    .select(\"COD_TIPO\", \"DESCR_TIPO\")\n",
    "    .withColumnRenamed(\"COD_TIPO\", \"SINT_COD\")\n",
    "    .withColumnRenamed(\"DESCR_TIPO\", \"SINT_DESC\"))\n",
    "\n",
    "dic_estuda_df = (\n",
    "    df_filtro\n",
    "    .filter(col(\"COD_VAR\")=='A006')\n",
    "    .select(\"COD_TIPO\", \"DESCR_TIPO\")\n",
    "    .withColumnRenamed(\"COD_TIPO\", \"ESTUDA_COD\")\n",
    "    .withColumnRenamed(\"DESCR_TIPO\", \"ESTUDA_DESC\"))    \n",
    "\n",
    "dic_resultado_teste_df = (\n",
    "    df_filtro\n",
    "    .filter(col(\"COD_VAR\")=='B009B')\n",
    "    .select(\"COD_TIPO\", \"DESCR_TIPO\")\n",
    "    .withColumnRenamed(\"COD_TIPO\", \"TESTE_COD\")\n",
    "    .withColumnRenamed(\"DESCR_TIPO\", \"TESTE_DESC\"))    \n",
    "\n",
    "dic_isolamento_social_df = (\n",
    "    df_filtro\n",
    "    .filter(col(\"COD_VAR\")=='B011')\n",
    "    .select(\"COD_TIPO\", \"DESCR_TIPO\")\n",
    "    .withColumnRenamed(\"COD_TIPO\", \"ISO_COD\")\n",
    "    .withColumnRenamed(\"DESCR_TIPO\", \"ISO_DESC\"))    \n",
    "\n",
    "dic_trab_sp_trabalhou_df = (\n",
    "    df_filtro\n",
    "    .filter(col(\"COD_VAR\")=='C001')\n",
    "    .select(\"COD_TIPO\", \"DESCR_TIPO\")\n",
    "    .withColumnRenamed(\"COD_TIPO\", \"TRAB_SP_TRABALHOU_COD\")\n",
    "    .withColumnRenamed(\"DESCR_TIPO\", \"TRAB_SP_TRABALHOU_DESC\"))\n",
    "\n",
    "dic_trab_tipo_trabalho_df = (\n",
    "    df_filtro\n",
    "    .filter(col(\"COD_VAR\")=='C007C')\n",
    "    .select(\"COD_TIPO\", \"DESCR_TIPO\")\n",
    "    .withColumnRenamed(\"COD_TIPO\", \"TRAB_TIPO_TRABALHO_COD\")\n",
    "    .withColumnRenamed(\"DESCR_TIPO\", \"TRAB_TIPO_TRABALHO_DESC\"))\n",
    "\n",
    "dic_trab_qt_empregados_df = (\n",
    "    df_filtro\n",
    "    .filter(col(\"COD_VAR\")=='C007E')\n",
    "    .select(\"COD_TIPO\", \"DESCR_TIPO\")\n",
    "    .withColumnRenamed(\"COD_TIPO\", \"TRAB_QUANT_EMPREGADOS_COD\")\n",
    "    .withColumnRenamed(\"DESCR_TIPO\", \"TRAB_QUANT_EMPREGADOS_DESC\"))\n",
    "\n",
    "\n",
    "dic_trab_ms_local_df = (\n",
    "    df_filtro\n",
    "    .filter(col(\"COD_VAR\")=='C012')\n",
    "    .select(\"COD_TIPO\", \"DESCR_TIPO\")\n",
    "    .withColumnRenamed(\"COD_TIPO\", \"TRAB_MESMO_LOCAL_COD\")\n",
    "    .withColumnRenamed(\"DESCR_TIPO\", \"TRAB_MESMO_LOCAL_DESC\"))\n",
    "\n"
   ]
  },
  {
   "cell_type": "markdown",
   "metadata": {
    "application/vnd.databricks.v1+cell": {
     "cellMetadata": {},
     "inputWidgets": {},
     "nuid": "be39aa99-267d-44b7-92e3-f8247d86bc82",
     "showTitle": false,
     "tableResultSettingsMap": {},
     "title": ""
    }
   },
   "source": [
    "### **SEPARAÇÃO DOS DADOS NAS TABELAS DISTINTAS**"
   ]
  },
  {
   "cell_type": "code",
   "execution_count": 11,
   "metadata": {
    "application/vnd.databricks.v1+cell": {
     "cellMetadata": {
      "byteLimit": 2048000,
      "rowLimit": 10000
     },
     "inputWidgets": {},
     "nuid": "b93d7536-9dba-47bb-93e4-e8e0bd2e610f",
     "showTitle": false,
     "tableResultSettingsMap": {},
     "title": ""
    }
   },
   "outputs": [],
   "source": [
    "colunas_dados_pess = [\"CTRL_MES\", \"CTRL_ID\", \"PESS_UF\", \"PESS_SIT_DOMICILIO\", \"PESS_IDADE_MORADOR\", \"PESS_SEXO_MORADOR\",\"PESS_ESTUDA\"]\n",
    "\n",
    "df_dados_pess = df_renamed.select(colunas_dados_pess)\n",
    "\n",
    "colunas_dados_trab = [\"CTRL_MES\", \"CTRL_ID\", \"TRAB_SP_TRABALHOU\", \"TRAB_TIPO_TRABALHO\", \"TRAB_QUANT_EMPREGADOS\", \"TRAB_PRESENCIAL\"]\n",
    "\n",
    "df_dados_trab = df_renamed.select(colunas_dados_trab)\n",
    "\n",
    "colunas_dados_sint = [\"CTRL_MES\", \"CTRL_ID\",  \"SINT_FEBRE\", \"SINT_TOSSE\", \"SINT_DOR_CABECA\", \"SINT_DIF_RESPIRAR\", \"SINT_CORIZA\", \"SINT_FADIGA\", \"SINT_PERDA_OLFATO\"]\n",
    "\n",
    "df_dados_sint = df_renamed.select(colunas_dados_sint)\n",
    "\n",
    "colunas_dados_iso_social = [\"CTRL_MES\", \"CTRL_ID\", \"DISTANC_SOCIAL\"]\n",
    "\n",
    "df_dados_iso_social = df_renamed.select(colunas_dados_iso_social)\n",
    "\n",
    "\n",
    "colunas_dados_tst_covd = [\"CTRL_MES\", \"CTRL_ID\",\"TESTE_SWAB\", \"TESTE_SANGUE_DEDO\", \"TESTE_SANGUE_VEIA\"]\n",
    "\n",
    "df_dados_dados_tst_covd = df_renamed.select(colunas_dados_tst_covd)\n"
   ]
  },
  {
   "cell_type": "code",
   "execution_count": 12,
   "metadata": {
    "application/vnd.databricks.v1+cell": {
     "cellMetadata": {
      "byteLimit": 2048000,
      "rowLimit": 10000
     },
     "inputWidgets": {},
     "nuid": "97a5089f-8238-4705-9eed-774780817a09",
     "showTitle": false,
     "tableResultSettingsMap": {},
     "title": ""
    }
   },
   "outputs": [
    {
     "name": "stdout",
     "output_type": "stream",
     "text": [
      "root\n",
      " |-- CTRL_MES: integer (nullable = true)\n",
      " |-- CTRL_ID: string (nullable = true)\n",
      " |-- PESS_UF: integer (nullable = true)\n",
      " |-- PESS_SIT_DOMICILIO: integer (nullable = true)\n",
      " |-- PESS_IDADE_MORADOR: integer (nullable = true)\n",
      " |-- PESS_SEXO_MORADOR: integer (nullable = true)\n",
      " |-- PESS_ESTUDA: integer (nullable = true)\n",
      "\n",
      "root\n",
      " |-- CTRL_MES: integer (nullable = true)\n",
      " |-- CTRL_ID: string (nullable = true)\n",
      " |-- TRAB_SP_TRABALHOU: integer (nullable = true)\n",
      " |-- TRAB_TIPO_TRABALHO: integer (nullable = true)\n",
      " |-- TRAB_QUANT_EMPREGADOS: integer (nullable = true)\n",
      " |-- TRAB_PRESENCIAL: integer (nullable = true)\n",
      "\n",
      "root\n",
      " |-- CTRL_MES: integer (nullable = true)\n",
      " |-- CTRL_ID: string (nullable = true)\n",
      " |-- SINT_FEBRE: integer (nullable = true)\n",
      " |-- SINT_TOSSE: integer (nullable = true)\n",
      " |-- SINT_DOR_CABECA: integer (nullable = true)\n",
      " |-- SINT_DIF_RESPIRAR: integer (nullable = true)\n",
      " |-- SINT_CORIZA: integer (nullable = true)\n",
      " |-- SINT_FADIGA: integer (nullable = true)\n",
      " |-- SINT_PERDA_OLFATO: integer (nullable = true)\n",
      "\n",
      "root\n",
      " |-- CTRL_MES: integer (nullable = true)\n",
      " |-- CTRL_ID: string (nullable = true)\n",
      " |-- DISTANC_SOCIAL: integer (nullable = true)\n",
      "\n",
      "root\n",
      " |-- CTRL_MES: integer (nullable = true)\n",
      " |-- CTRL_ID: string (nullable = true)\n",
      " |-- TESTE_SWAB: integer (nullable = true)\n",
      " |-- TESTE_SANGUE_DEDO: integer (nullable = true)\n",
      " |-- TESTE_SANGUE_VEIA: integer (nullable = true)\n",
      "\n"
     ]
    }
   ],
   "source": [
    "df_dados_pess.printSchema()\n",
    "df_dados_trab.printSchema()\n",
    "df_dados_sint.printSchema()\n",
    "df_dados_iso_social.printSchema()\n",
    "df_dados_dados_tst_covd.printSchema()\n"
   ]
  },
  {
   "cell_type": "code",
   "execution_count": 13,
   "metadata": {},
   "outputs": [],
   "source": [
    "# Tabela de Dados Pessoais\n",
    "df_dados_pess.createOrReplaceTempView(\"dados_pessoais\")\n",
    "\n",
    "# Tabela de Dados de Trabalho\n",
    "df_dados_trab.createOrReplaceTempView(\"dados_trabalho\")\n",
    "\n",
    "# Tabela de Dados de Sintomas\n",
    "df_dados_sint.createOrReplaceTempView(\"dados_sintomas\")\n",
    "\n",
    "# Tabela de Dados de Isolamento Social\n",
    "df_dados_iso_social.createOrReplaceTempView(\"dados_isolamento_social\")\n",
    "\n",
    "# Tabela de Dados de Teste COVID\n",
    "df_dados_dados_tst_covd.createOrReplaceTempView(\"dados_teste_covid\")\n",
    "\n",
    "# Tabela Dicionário de Unidades Federativas (UF)\n",
    "dic_pess_uf_df.createOrReplaceTempView(\"dic_uf\")\n",
    "\n",
    "# Tabela Dicionário de Situação do Domicílio\n",
    "dic_pess_sit_domicilio_df.createOrReplaceTempView(\"dic_sit_domicilio\")\n",
    "\n",
    "# Tabela Dicionário de Sexo do Morador\n",
    "dic_pess_sexo_morador.createOrReplaceTempView(\"dic_sexo_morador\")\n",
    "\n",
    "# Tabela Dicionário de Sintomas\n",
    "dic_sintomas_df.createOrReplaceTempView(\"dic_sintomas\")\n",
    "\n",
    "# Tabela Dicionário de Estuda\n",
    "dic_estuda_df.createOrReplaceTempView(\"dic_estuda\")\n",
    "\n",
    "# Tabela Dicionário de Resultado de Teste\n",
    "dic_resultado_teste_df.createOrReplaceTempView(\"dic_resultado_teste\")\n",
    "\n",
    "# Tabela Dicionário de Isolamento Social\n",
    "dic_isolamento_social_df.createOrReplaceTempView(\"dic_isolamento_social\")\n",
    "\n",
    "# Tabela Dicionário de Trabalhou na Semana Passada (SP)\n",
    "dic_trab_sp_trabalhou_df.createOrReplaceTempView(\"dic_trab_sp_trabalhou\")\n",
    "\n",
    "# Tabela Dicionário de Tipo de Trabalho\n",
    "dic_trab_tipo_trabalho_df.createOrReplaceTempView(\"dic_trab_tipo_trabalho\")\n",
    "\n",
    "# Tabela Dicionário de Quantidade de Empregados\n",
    "dic_trab_qt_empregados_df.createOrReplaceTempView(\"dic_trab_qt_empregados\")\n",
    "\n",
    "# Tabela Dicionário de Mesma Localidade (Trabalho)\n",
    "dic_trab_ms_local_df.createOrReplaceTempView(\"dic_trab_mesmo_local\")\n"
   ]
  },
  {
   "cell_type": "markdown",
   "metadata": {},
   "source": [
    "### **CRIAÇÃO DO BANCO DE DADOS**"
   ]
  },
  {
   "cell_type": "code",
   "execution_count": 14,
   "metadata": {},
   "outputs": [
    {
     "name": "stdout",
     "output_type": "stream",
     "text": [
      "\n",
      "--- INICIANDO INSERÇÃO DOS DADOS PRINCIPAIS ---\n"
     ]
    },
    {
     "ename": "NameError",
     "evalue": "name 'dfs_dados' is not defined",
     "output_type": "error",
     "traceback": [
      "\u001b[31m---------------------------------------------------------------------------\u001b[39m",
      "\u001b[31mNameError\u001b[39m                                 Traceback (most recent call last)",
      "\u001b[36mCell\u001b[39m\u001b[36m \u001b[39m\u001b[32mIn[14]\u001b[39m\u001b[32m, line 22\u001b[39m\n\u001b[32m     15\u001b[39m         \u001b[38;5;28mprint\u001b[39m(\u001b[33mf\u001b[39m\u001b[33m\"\u001b[39m\u001b[33mDetalhes do Erro: \u001b[39m\u001b[38;5;132;01m{\u001b[39;00me\u001b[38;5;132;01m}\u001b[39;00m\u001b[33m\"\u001b[39m)\n\u001b[32m     21\u001b[39m \u001b[38;5;28mprint\u001b[39m(\u001b[33m\"\u001b[39m\u001b[38;5;130;01m\\n\u001b[39;00m\u001b[33m--- INICIANDO INSERÇÃO DOS DADOS PRINCIPAIS ---\u001b[39m\u001b[33m\"\u001b[39m)\n\u001b[32m---> \u001b[39m\u001b[32m22\u001b[39m \u001b[38;5;28;01mfor\u001b[39;00m nome_tabela, df \u001b[38;5;129;01min\u001b[39;00m \u001b[43mdfs_dados\u001b[49m.items():\n\u001b[32m     23\u001b[39m     inserir_tabela_postgres(df, nome_tabela)\n\u001b[32m     25\u001b[39m \u001b[38;5;28mprint\u001b[39m(\u001b[33m\"\u001b[39m\u001b[38;5;130;01m\\n\u001b[39;00m\u001b[33m--- INICIANDO INSERÇÃO DOS DICIONÁRIOS (DICs) ---\u001b[39m\u001b[33m\"\u001b[39m)\n",
      "\u001b[31mNameError\u001b[39m: name 'dfs_dados' is not defined"
     ]
    }
   ],
   "source": [
    "def inserir_tabela_postgres(df, nome_tabela):\n",
    "    \"\"\"Insere um DataFrame (df) em uma tabela (nome_tabela) no PostgreSQL.\"\"\"\n",
    "    print(f\"   -> Tentando inserir tabela: '{nome_tabela}'...\")\n",
    "    try:\n",
    "        df.write.jdbc(\n",
    "            url=jdbc_url,\n",
    "            table=nome_tabela,\n",
    "            mode=MODE,\n",
    "            properties=connection_properties\n",
    "        )\n",
    "        print(f\"✅ Tabela '{nome_tabela}' inserida com sucesso (Modo: {MODE}).\")\n",
    "    except Exception as e:\n",
    "        # A exceção Py4JJavaError será capturada aqui\n",
    "        print(f\"❌ ERRO GRAVE ao inserir a tabela '{nome_tabela}'. Verifique o driver JDBC e a conexão do DB.\")\n",
    "        print(f\"Detalhes do Erro: {e}\")\n",
    "\n",
    "\n",
    "\n",
    "\n",
    "\n",
    "print(\"\\n--- INICIANDO INSERÇÃO DOS DADOS PRINCIPAIS ---\")\n",
    "for nome_tabela, df in dfs_dados.items():\n",
    "    inserir_tabela_postgres(df, nome_tabela)\n",
    "\n",
    "print(\"\\n--- INICIANDO INSERÇÃO DOS DICIONÁRIOS (DICs) ---\")\n",
    "for nome_tabela, df in dfs_dics.items():\n",
    "    inserir_tabela_postgres(df, nome_tabela)"
   ]
  },
  {
   "cell_type": "markdown",
   "metadata": {},
   "source": [
    "### **ANALISES EXPLORATORIAS**\n"
   ]
  },
  {
   "cell_type": "markdown",
   "metadata": {},
   "source": [
    "### 1 - Estados com mais testes positivos"
   ]
  },
  {
   "cell_type": "markdown",
   "metadata": {},
   "source": [
    "### 2 - Positivos por área (Urbano/Rural)"
   ]
  },
  {
   "cell_type": "markdown",
   "metadata": {},
   "source": [
    "### 3 - Faixas etárias"
   ]
  },
  {
   "cell_type": "markdown",
   "metadata": {},
   "source": [
    "### 4 - Homens vs Mulheres Infectados"
   ]
  },
  {
   "cell_type": "markdown",
   "metadata": {},
   "source": [
    "### 5 - Estudantes ?"
   ]
  },
  {
   "cell_type": "markdown",
   "metadata": {},
   "source": [
    "### 6 - Testes Positivos por tipo de Trabalho "
   ]
  },
  {
   "cell_type": "markdown",
   "metadata": {},
   "source": [
    "### 7 -sintomas mais apresentados ?"
   ]
  },
  {
   "cell_type": "markdown",
   "metadata": {},
   "source": [
    "### 8 - Assintomáticos positivos?"
   ]
  },
  {
   "cell_type": "markdown",
   "metadata": {},
   "source": [
    "### 9 Pessoas que praticaram Distanciamento Social para pessoas com SINTOMÁTICOS"
   ]
  },
  {
   "cell_type": "markdown",
   "metadata": {},
   "source": [
    "### 9 Pessoas que praticaram Distanciamento Social para pessoas com ASSINTOMÁTICOS"
   ]
  },
  {
   "cell_type": "markdown",
   "metadata": {},
   "source": [
    "### 10 Casos Positivos por Situação que  Trabalha"
   ]
  },
  {
   "cell_type": "markdown",
   "metadata": {},
   "source": [
    "### 11 - Qual teste mais feito por todos"
   ]
  },
  {
   "cell_type": "markdown",
   "metadata": {},
   "source": [
    "### 12 - Casos Positivos: Faixa Etária vs. Tipo de Ocupação"
   ]
  },
  {
   "cell_type": "markdown",
   "metadata": {},
   "source": [
    "### 13 - Proporção: Sintomáticos vs. Assintomáticos por idade"
   ]
  },
  {
   "cell_type": "markdown",
   "metadata": {},
   "source": [
    "### 14 - Casos Positivos por local de trabalho\n"
   ]
  }
 ],
 "metadata": {
  "application/vnd.databricks.v1+notebook": {
   "computePreferences": null,
   "dashboards": [],
   "environmentMetadata": {
    "base_environment": "",
    "environment_version": "3"
   },
   "inputWidgetPreferences": null,
   "language": "python",
   "notebookMetadata": {
    "pythonIndentUnit": 4
   },
   "notebookName": "POS-TECHCHALLENGE-3",
   "widgets": {}
  },
  "kernelspec": {
   "display_name": "Python 3",
   "language": "python",
   "name": "python3"
  },
  "language_info": {
   "codemirror_mode": {
    "name": "ipython",
    "version": 3
   },
   "file_extension": ".py",
   "mimetype": "text/x-python",
   "name": "python",
   "nbconvert_exporter": "python",
   "pygments_lexer": "ipython3",
   "version": "3.11.9"
  }
 },
 "nbformat": 4,
 "nbformat_minor": 0
}
